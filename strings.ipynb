{
 "cells": [
  {
   "cell_type": "markdown",
   "metadata": {},
   "source": [
    "## strings\n",
    "- creating \n",
    "- indexing and slicing\n",
    "- methods\n",
    "- tips and tricks"
   ]
  },
  {
   "cell_type": "code",
   "execution_count": 3,
   "metadata": {},
   "outputs": [
    {
     "name": "stdout",
     "output_type": "stream",
     "text": [
      "apple apple This is useful in \n",
      "multiline messages\n",
      "1234\n"
     ]
    }
   ],
   "source": [
    "a=\"apple\"\n",
    "b='apple'\n",
    "c='''This is useful in \n",
    "multiline messages'''\n",
    "print(a,b,c)\n",
    "d=str(1234)\n",
    "print(d)"
   ]
  },
  {
   "cell_type": "code",
   "execution_count": 10,
   "metadata": {},
   "outputs": [
    {
     "name": "stdout",
     "output_type": "stream",
     "text": [
      "apple is a fruit\n",
      "c:\\users\\isha\\desktop\n",
      "hello\n",
      "b'hello'\n"
     ]
    }
   ],
   "source": [
    "# Types of strings\n",
    "# 1) f-string\n",
    "x=f'{a} is a fruit'\n",
    "print(x)\n",
    "# 2) raw string\n",
    "address= r'c:\\users\\isha\\desktop'\n",
    "print(address)\n",
    "# 3) unicode string\n",
    "uni=u'hello'\n",
    "print(uni)\n",
    "# 4) byte string\n",
    "byt=b'hello'\n",
    "print(byt)\n"
   ]
  },
  {
   "cell_type": "code",
   "execution_count": 16,
   "metadata": {},
   "outputs": [
    {
     "name": "stdout",
     "output_type": "stream",
     "text": [
      "e\n",
      "n\n",
      "c\n",
      "o\n",
      "a\n",
      "a\n",
      "third last  d\n"
     ]
    }
   ],
   "source": [
    "v='encyclopedia'\n",
    "print(v[0]) #indexing from first\n",
    "print(v[1])\n",
    "print(v[2])\n",
    "print(v[6])\n",
    "print(v[11])\n",
    "print(v[-1]) #indexing from last\n",
    "print(\"third last \",v[-3])\n"
   ]
  },
  {
   "cell_type": "markdown",
   "metadata": {},
   "source": [
    "## Slicing in Python\n",
    "x [start : stop]"
   ]
  },
  {
   "cell_type": "code",
   "execution_count": 41,
   "metadata": {},
   "outputs": [
    {
     "data": {
      "text/plain": [
       "'Once upon a time'"
      ]
     },
     "execution_count": 41,
     "metadata": {},
     "output_type": "execute_result"
    }
   ],
   "source": [
    "msg=\"Once upon a time, there lived a boy named Joy. That boy was naughty!\"\n",
    "msg[:16]"
   ]
  },
  {
   "cell_type": "code",
   "execution_count": 11,
   "metadata": {},
   "outputs": [
    {
     "name": "stdout",
     "output_type": "stream",
     "text": [
      "800999\n"
     ]
    }
   ],
   "source": [
    "amt=\"$800999\"\n",
    "amt=int(amt[1:])\n",
    "print(amt)\n",
    "\n"
   ]
  },
  {
   "cell_type": "code",
   "execution_count": 12,
   "metadata": {},
   "outputs": [
    {
     "data": {
      "text/plain": [
       "'yoJ deman yob a devil ereht ,emit a nopu ecnO'"
      ]
     },
     "execution_count": 12,
     "metadata": {},
     "output_type": "execute_result"
    }
   ],
   "source": [
    "msg[::-1] #reverse"
   ]
  },
  {
   "cell_type": "code",
   "execution_count": 13,
   "metadata": {},
   "outputs": [
    {
     "data": {
      "text/plain": [
       "'yoJ d'"
      ]
     },
     "execution_count": 13,
     "metadata": {},
     "output_type": "execute_result"
    }
   ],
   "source": [
    "msg[::-1][:5] #first reverse and then picks 5 characters from the reverse"
   ]
  },
  {
   "cell_type": "code",
   "execution_count": 19,
   "metadata": {},
   "outputs": [
    {
     "name": "stdout",
     "output_type": "stream",
     "text": [
      "Vijay \n",
      "Deenanath\n",
      "Chauhan\n"
     ]
    }
   ],
   "source": [
    "name=\"Vijay Deenanath Chauhan\"\n",
    "name[6:15][::-1] #reverse the word Deenanath\n",
    "firstname=name[0:6]\n",
    "print(firstname)\n",
    "middlename=name[6:15]\n",
    "print(middlename)\n",
    "lastname=name[-7:]\n",
    "print(lastname)"
   ]
  },
  {
   "cell_type": "markdown",
   "metadata": {},
   "source": [
    "### String Methods"
   ]
  },
  {
   "cell_type": "code",
   "execution_count": null,
   "metadata": {},
   "outputs": [],
   "source": [
    "a=100 #int, so will have different methods\n",
    "b=\"100\" #str, so will have different methods\n",
    "# methods are accessed using . dot "
   ]
  },
  {
   "cell_type": "markdown",
   "metadata": {},
   "source": [
    "String Methods\n",
    "- formatting\n",
    "- validation\n",
    "- find and replace\n",
    "- etc...."
   ]
  },
  {
   "cell_type": "code",
   "execution_count": 29,
   "metadata": {},
   "outputs": [
    {
     "name": "stdout",
     "output_type": "stream",
     "text": [
      "All the glitter is not Gold 💛\n",
      "ALL THE GLITTER IS NOT GOLD 💛\n",
      "all the glitter is not gold 💛\n",
      "All the glitter is not gold 💛\n",
      "aLL THE GLITTER IS NOT gOLD 💛\n",
      "all the glitter is not gold 💛\n",
      "All The Glitter Is Not Gold 💛\n"
     ]
    }
   ],
   "source": [
    "quote=\"All the glitter is not Gold 💛\"\n",
    "q_upper=quote.upper()\n",
    "q_lower=quote.lower()\n",
    "q_capitalize=quote.capitalize()\n",
    "q_swapcase=quote.swapcase()\n",
    "q_casefold=quote.casefold() # same as lower \n",
    "q_title=quote.title()\n",
    "print(quote)\n",
    "print(q_upper)\n",
    "print(q_lower)\n",
    "print(q_capitalize)\n",
    "print(q_swapcase)\n",
    "print(q_casefold)\n",
    "print(q_title)"
   ]
  },
  {
   "cell_type": "markdown",
   "metadata": {},
   "source": []
  },
  {
   "cell_type": "code",
   "execution_count": 24,
   "metadata": {},
   "outputs": [
    {
     "data": {
      "text/plain": [
       "'_____________________All the glitter is not Gold 💛'"
      ]
     },
     "execution_count": 24,
     "metadata": {},
     "output_type": "execute_result"
    }
   ],
   "source": [
    "quote.rjust(50,'_')"
   ]
  },
  {
   "cell_type": "code",
   "execution_count": 28,
   "metadata": {},
   "outputs": [
    {
     "name": "stdout",
     "output_type": "stream",
     "text": [
      "Invalid name!\n"
     ]
    }
   ],
   "source": [
    "fname=input(\"Enter your name: \")\n",
    "if fname.isalpha():\n",
    "    print(\"Valid name!\")\n",
    "else:\n",
    "    print(\"Invalid name!\")"
   ]
  },
  {
   "cell_type": "code",
   "execution_count": 49,
   "metadata": {},
   "outputs": [
    {
     "name": "stdout",
     "output_type": "stream",
     "text": [
      "Once upon a time, there lived a boy named Joy. That boy was naughty!\n",
      "42\n",
      "52\n",
      "Once upon a time, there lived a girl named Joy. That girl was naughty!\n",
      "Once upon e tlme, there llved e boy nemed Joy. Thet boy wes neughty!\n",
      "Once_upon_a_time, there lived a boy named Joy. That boy was naughty!\n"
     ]
    }
   ],
   "source": [
    "print(msg)\n",
    "a=msg.find('Joy') #case sensitive, so will return -1 index if value not found!\n",
    "b=msg.rfind('boy') #returns the index of the last string of the substring\n",
    "c=msg.replace('boy','girl') #replaces the given word by another thing(word,num,emoji,etc...)\n",
    "d=msg.replace('a','e').replace('i','l')# and so on... It is a replace chain!\n",
    "e=msg.replace(' ','_',3)\n",
    "print(a)\n",
    "print(b)\n",
    "print(c)\n",
    "print(d)\n",
    "print(e)"
   ]
  },
  {
   "cell_type": "code",
   "execution_count": null,
   "metadata": {},
   "outputs": [],
   "source": []
  }
 ],
 "metadata": {
  "kernelspec": {
   "display_name": "Python 3",
   "language": "python",
   "name": "python3"
  },
  "language_info": {
   "codemirror_mode": {
    "name": "ipython",
    "version": 3
   },
   "file_extension": ".py",
   "mimetype": "text/x-python",
   "name": "python",
   "nbconvert_exporter": "python",
   "pygments_lexer": "ipython3",
   "version": "3.10.6"
  }
 },
 "nbformat": 4,
 "nbformat_minor": 2
}
