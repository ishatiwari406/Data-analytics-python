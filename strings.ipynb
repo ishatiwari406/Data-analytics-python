{
 "cells": [
  {
   "cell_type": "markdown",
   "metadata": {},
   "source": [
    "## strings\n",
    "- creating \n",
    "- indexing and slicing\n",
    "- methods\n",
    "- tips and tricks"
   ]
  },
  {
   "cell_type": "code",
   "execution_count": 3,
   "metadata": {},
   "outputs": [
    {
     "name": "stdout",
     "output_type": "stream",
     "text": [
      "apple apple This is useful in \n",
      "multiline messages\n",
      "1234\n"
     ]
    }
   ],
   "source": [
    "a=\"apple\"\n",
    "b='apple'\n",
    "c='''This is useful in \n",
    "multiline messages'''\n",
    "print(a,b,c)\n",
    "d=str(1234)\n",
    "print(d)"
   ]
  },
  {
   "cell_type": "code",
   "execution_count": 10,
   "metadata": {},
   "outputs": [
    {
     "name": "stdout",
     "output_type": "stream",
     "text": [
      "apple is a fruit\n",
      "c:\\users\\isha\\desktop\n",
      "hello\n",
      "b'hello'\n"
     ]
    }
   ],
   "source": [
    "# Types of strings\n",
    "# 1) f-string\n",
    "x=f'{a} is a fruit'\n",
    "print(x)\n",
    "# 2) raw string\n",
    "address= r'c:\\users\\isha\\desktop'\n",
    "print(address)\n",
    "# 3) unicode string\n",
    "uni=u'hello'\n",
    "print(uni)\n",
    "# 4) byte string\n",
    "byt=b'hello'\n",
    "print(byt)\n"
   ]
  },
  {
   "cell_type": "code",
   "execution_count": 16,
   "metadata": {},
   "outputs": [
    {
     "name": "stdout",
     "output_type": "stream",
     "text": [
      "e\n",
      "n\n",
      "c\n",
      "o\n",
      "a\n",
      "a\n",
      "third last  d\n"
     ]
    }
   ],
   "source": [
    "v='encyclopedia'\n",
    "print(v[0]) #indexing from first\n",
    "print(v[1])\n",
    "print(v[2])\n",
    "print(v[6])\n",
    "print(v[11])\n",
    "print(v[-1]) #indexing from last\n",
    "print(\"third last \",v[-3])\n"
   ]
  }
 ],
 "metadata": {
  "kernelspec": {
   "display_name": "Python 3",
   "language": "python",
   "name": "python3"
  },
  "language_info": {
   "codemirror_mode": {
    "name": "ipython",
    "version": 3
   },
   "file_extension": ".py",
   "mimetype": "text/x-python",
   "name": "python",
   "nbconvert_exporter": "python",
   "pygments_lexer": "ipython3",
   "version": "3.10.6"
  }
 },
 "nbformat": 4,
 "nbformat_minor": 2
}
