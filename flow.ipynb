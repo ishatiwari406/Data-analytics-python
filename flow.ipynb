{
 "cells": [
  {
   "cell_type": "markdown",
   "metadata": {},
   "source": [
    "Programming flow\n",
    "- CONDITIONAL FLOW\n",
    "    - if\n",
    "    - else\n",
    "    - if elif else\n",
    "    - match case\n",
    "- ITERATIVE FLOW\n",
    "    - for loop\n",
    "    - while loop\n",
    "    "
   ]
  },
  {
   "cell_type": "code",
   "execution_count": 2,
   "metadata": {},
   "outputs": [
    {
     "name": "stdout",
     "output_type": "stream",
     "text": [
      "hello everyone\n"
     ]
    }
   ],
   "source": [
    "if 'hello':\n",
    "    print('hello everyone')"
   ]
  },
  {
   "cell_type": "code",
   "execution_count": 20,
   "metadata": {},
   "outputs": [
    {
     "name": "stdout",
     "output_type": "stream",
     "text": [
      "Hello everyone\n"
     ]
    }
   ],
   "source": [
    "x='helloo'\n",
    "if len(x)>=5:\n",
    "    print(\"Hello everyone\")\n"
   ]
  },
  {
   "cell_type": "code",
   "execution_count": 17,
   "metadata": {},
   "outputs": [
    {
     "name": "stdout",
     "output_type": "stream",
     "text": [
      "a*2 is greater than 100\n"
     ]
    }
   ],
   "source": [
    "a=int(input(\"Enter a number:\"))\n",
    "if (a*2>100):\n",
    "    print('a*2 is greater than 100')\n",
    "if (a+50<150):\n",
    "    print('a+50 is less than 150')"
   ]
  },
  {
   "cell_type": "code",
   "execution_count": 19,
   "metadata": {},
   "outputs": [
    {
     "name": "stdout",
     "output_type": "stream",
     "text": [
      "This is odd\n"
     ]
    }
   ],
   "source": [
    "x=int(input(\"enter a number\"))\n",
    "if(x%2==0):\n",
    "    print(\"This is even\")\n",
    "else:\n",
    "    print(\"This is odd\")"
   ]
  },
  {
   "cell_type": "markdown",
   "metadata": {},
   "source": [
    "Write a prog to find out the total salary of the employees based on the following data\n",
    "salary : user inputted\n",
    "hra=5%\n",
    "da=3.3%\n",
    "ta=2.6%\n",
    "\n",
    "Total salary = hra + da + ta\n",
    "\n",
    "*rule* if hra<1000 then don't add hra to total"
   ]
  },
  {
   "cell_type": "code",
   "execution_count": 4,
   "metadata": {},
   "outputs": [
    {
     "name": "stdout",
     "output_type": "stream",
     "text": [
      "Your total salary=  2118.0\n"
     ]
    }
   ],
   "source": [
    "sal=int(input(\"Enter your salary: \"))\n",
    "t_sal=(sal+((0.033*sal)+(0.026*sal)))\n",
    "total_sal=(sal+((0.05*sal)+(0.033*sal)+(0.026*sal)))\n",
    "if((0.05*sal)<1000):\n",
    "    print(\"Your total salary= \",t_sal)\n",
    "else:\n",
    "    print(\"Your total salary= \",total_sal)"
   ]
  },
  {
   "cell_type": "code",
   "execution_count": 18,
   "metadata": {},
   "outputs": [
    {
     "name": "stdout",
     "output_type": "stream",
     "text": [
      "Movie name: 12th Fail\n",
      "⭐⭐⭐⭐⭐(excellent)\n"
     ]
    }
   ],
   "source": [
    "name=input(\"Enter the name of the movie: \")\n",
    "num_str=input(\"Enter the rating: \")\n",
    "if num_str.isnumeric():\n",
    "    num=int(num_str)\n",
    "    print(f\"Movie name: {name}\")\n",
    "\n",
    "    if num==1:\n",
    "        print('⭐(terrible)')\n",
    "    elif num==2:\n",
    "        print('⭐⭐(bad)')\n",
    "    elif num==3:\n",
    "        print('⭐⭐⭐(average)')\n",
    "    elif num==4:\n",
    "        print('⭐⭐⭐⭐(good)')\n",
    "    elif num==5:\n",
    "        print('⭐⭐⭐⭐⭐(excellent)')\n",
    "    else:\n",
    "        print('Invalid choice! ⚠')\n",
    "else:\n",
    "    print('You are stupid, just watch movies!')"
   ]
  },
  {
   "cell_type": "markdown",
   "metadata": {},
   "source": [
    "## match case\n",
    "### used to match multiple values\n",
    "- Take the input of days and print whether classes are off or not"
   ]
  },
  {
   "cell_type": "code",
   "execution_count": 34,
   "metadata": {},
   "outputs": [
    {
     "name": "stdout",
     "output_type": "stream",
     "text": [
      "Classes are on!\n"
     ]
    }
   ],
   "source": [
    "day=input(\"Enter the day of a week\")\n",
    "match day.lower():\n",
    "    case 'monday'|'tuesday'|'wednesday'|'friday':\n",
    "        print(\"Classes are on!\")\n",
    "    case 'thursday':\n",
    "        print(\"Classes are off\")\n",
    "    case 'saturday'|'sunday':\n",
    "        print(\"Weekend!\")\n"
   ]
  },
  {
   "cell_type": "code",
   "execution_count": 44,
   "metadata": {},
   "outputs": [
    {
     "name": "stdout",
     "output_type": "stream",
     "text": [
      "above 100\n"
     ]
    }
   ],
   "source": [
    "#Single line condition\n",
    "x=int(input(\"Enter a number: \"))\n",
    "print(\"above 100\") if x>=100  else print(\"below 100\")"
   ]
  },
  {
   "cell_type": "code",
   "execution_count": 47,
   "metadata": {},
   "outputs": [
    {
     "name": "stdout",
     "output_type": "stream",
     "text": [
      "h\n",
      "e\n",
      "l\n",
      "l\n",
      "o\n"
     ]
    }
   ],
   "source": [
    "for i in 'hello':\n",
    "    print(i)"
   ]
  },
  {
   "cell_type": "code",
   "execution_count": 54,
   "metadata": {},
   "outputs": [
    {
     "name": "stdout",
     "output_type": "stream",
     "text": [
      "0 red\n",
      "1 green\n",
      "2 blue\n"
     ]
    }
   ],
   "source": [
    "colors=[\"red\",\"green\",\"blue\"]\n",
    "for i,v in enumerate (colors):\n",
    "    print(i,v)"
   ]
  },
  {
   "cell_type": "code",
   "execution_count": 59,
   "metadata": {},
   "outputs": [
    {
     "name": "stdout",
     "output_type": "stream",
     "text": [
      " 12 => 120\n",
      " 34 => 340\n",
      "  2 => 20\n",
      " 15 => 150\n",
      "  8 => 80\n",
      " 31 => 310\n"
     ]
    }
   ],
   "source": [
    "numlist=[12,34,2,15,8,31]\n",
    "for num in numlist:\n",
    "    print(f'{num:>3} => {num*10}')"
   ]
  },
  {
   "cell_type": "code",
   "execution_count": 61,
   "metadata": {},
   "outputs": [
    {
     "name": "stdout",
     "output_type": "stream",
     "text": [
      "1\n",
      "5\n",
      "9\n",
      "13\n",
      "17\n"
     ]
    }
   ],
   "source": [
    "for i in range(1,21,4):\n",
    "    print(i)"
   ]
  },
  {
   "cell_type": "code",
   "execution_count": 79,
   "metadata": {},
   "outputs": [
    {
     "name": "stdout",
     "output_type": "stream",
     "text": [
      "13 *  1 =  13\n",
      "13 *  2 =  26\n",
      "13 *  3 =  39\n",
      "13 *  4 =  52\n",
      "13 *  5 =  65\n",
      "13 *  6 =  78\n",
      "13 *  7 =  91\n",
      "13 *  8 = 104\n",
      "13 *  9 = 117\n",
      "13 * 10 = 130\n"
     ]
    }
   ],
   "source": [
    "num=int(input(\"Enter a number whose table you wamt to display: \"))\n",
    "for i in range(1,11,1):\n",
    "    print(f'{num:} * {i:>2} ={num*i:>4}')"
   ]
  },
  {
   "cell_type": "code",
   "execution_count": null,
   "metadata": {},
   "outputs": [],
   "source": []
  }
 ],
 "metadata": {
  "kernelspec": {
   "display_name": "Python 3",
   "language": "python",
   "name": "python3"
  },
  "language_info": {
   "codemirror_mode": {
    "name": "ipython",
    "version": 3
   },
   "file_extension": ".py",
   "mimetype": "text/x-python",
   "name": "python",
   "nbconvert_exporter": "python",
   "pygments_lexer": "ipython3",
   "version": "3.10.6"
  }
 },
 "nbformat": 4,
 "nbformat_minor": 2
}
