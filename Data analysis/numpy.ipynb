{
 "cells": [
  {
   "cell_type": "code",
   "execution_count": 3,
   "metadata": {},
   "outputs": [],
   "source": [
    "import numpy as np"
   ]
  },
  {
   "cell_type": "code",
   "execution_count": 7,
   "metadata": {},
   "outputs": [
    {
     "name": "stdout",
     "output_type": "stream",
     "text": [
      "[1 2 3 4 5]\n",
      "[ 2  4  6  8 10]\n"
     ]
    }
   ],
   "source": [
    "#create 1D array\n",
    "a= np.array([1,2,3,4,5])\n",
    "b= np.array([2,4,6,8,10])\n",
    "\n",
    "print(a)\n",
    "print(b)\n"
   ]
  },
  {
   "cell_type": "code",
   "execution_count": 8,
   "metadata": {},
   "outputs": [
    {
     "name": "stdout",
     "output_type": "stream",
     "text": [
      "[ 3  6  9 12 15]\n",
      "[-1 -2 -3 -4 -5]\n",
      "[ 2  8 18 32 50]\n"
     ]
    }
   ],
   "source": [
    "print(a+b)\n",
    "print(a-b)\n",
    "print(a*b)\n"
   ]
  },
  {
   "cell_type": "code",
   "execution_count": 10,
   "metadata": {},
   "outputs": [
    {
     "name": "stdout",
     "output_type": "stream",
     "text": [
      "[[1 2]\n",
      " [4 9]]\n"
     ]
    }
   ],
   "source": [
    "n2=np.array([[1,2],[4,9]]) # 2x2 matrix\n",
    "print(n2)"
   ]
  },
  {
   "cell_type": "code",
   "execution_count": 17,
   "metadata": {},
   "outputs": [
    {
     "name": "stdout",
     "output_type": "stream",
     "text": [
      "[[ 1  3]\n",
      " [ 2  6]\n",
      " [ 5 12]]\n"
     ]
    }
   ],
   "source": [
    "n3=np.array([[1,3],[2,6],[5,12]])\n",
    "print(n3)"
   ]
  },
  {
   "cell_type": "code",
   "execution_count": 20,
   "metadata": {},
   "outputs": [
    {
     "name": "stdout",
     "output_type": "stream",
     "text": [
      "(3, 2)\n",
      "2\n",
      "int64\n"
     ]
    }
   ],
   "source": [
    "print(n3.shape)\n",
    "print(n3.ndim)\n",
    "print(n3.dtype)"
   ]
  },
  {
   "cell_type": "code",
   "execution_count": 26,
   "metadata": {},
   "outputs": [
    {
     "name": "stdout",
     "output_type": "stream",
     "text": [
      "[ 1  6 11 16 21 26 31 36 41 46 51 56 61 66 71 76 81 86 91 96]\n"
     ]
    }
   ],
   "source": [
    "print(np.arange(1,100,5))"
   ]
  },
  {
   "cell_type": "code",
   "execution_count": 9,
   "metadata": {},
   "outputs": [
    {
     "name": "stdout",
     "output_type": "stream",
     "text": [
      "[[5 9 7]\n",
      " [2 6 9]]\n"
     ]
    }
   ],
   "source": [
    "print(np.random.randint(1,10,size=(2,3))) #picks random integer from 1-10 in 2x3 matrix "
   ]
  },
  {
   "cell_type": "code",
   "execution_count": 10,
   "metadata": {},
   "outputs": [
    {
     "name": "stdout",
     "output_type": "stream",
     "text": [
      "[[1 2 3]\n",
      " [4 5 7]\n",
      " [1 9 7]]\n",
      "[[2 4 8]\n",
      " [3 4 5]\n",
      " [1 2 4]]\n"
     ]
    }
   ],
   "source": [
    "a1=np.array([[1,2,3],[4,5,7],[1,9,7]])\n",
    "a2= np.array([[2,4,8],[3,4,5],[1,2,4]])\n",
    "print(a1)\n",
    "print(a2)"
   ]
  },
  {
   "cell_type": "code",
   "execution_count": 43,
   "metadata": {},
   "outputs": [
    {
     "name": "stdout",
     "output_type": "stream",
     "text": [
      "[[ 2  8 24]\n",
      " [12 20 35]\n",
      " [ 1 18 28]]\n",
      "[[11 18 30]\n",
      " [30 50 85]\n",
      " [36 54 81]]\n",
      "52920\n",
      "4.333333333333333\n",
      "[2.         5.33333333 5.66666667]\n",
      "[1 4 1]\n"
     ]
    }
   ],
   "source": [
    "print(a1*a2) #element wise multiplication\n",
    "print(a1@a2) #matrix dot product\n",
    "print (a1.prod()) #product of all elements of a1\n",
    "print(a1.mean()) #mean of all elements of a1\n",
    "print(a1.mean(axis=0)) \n",
    "print(a1.min(axis=1))"
   ]
  },
  {
   "cell_type": "code",
   "execution_count": 46,
   "metadata": {},
   "outputs": [
    {
     "name": "stdout",
     "output_type": "stream",
     "text": [
      "39\n",
      "2.70801280154532\n",
      "7.333333333333333\n"
     ]
    }
   ],
   "source": [
    "# mathematical functions\n",
    "print(a1.sum()) #addition\n",
    "print(a1.std()) #standard deviation\n",
    "print(a1.var()) #variance"
   ]
  },
  {
   "cell_type": "code",
   "execution_count": 47,
   "metadata": {},
   "outputs": [
    {
     "name": "stdout",
     "output_type": "stream",
     "text": [
      "5.0\n",
      "3.0\n",
      "7.0\n"
     ]
    }
   ],
   "source": [
    "a=np.array([1,2,3,4,5,6,7,8,9])\n",
    "print(np.percentile(a,50)) #median\n",
    "print(np.percentile(a,25)) #1st quartile\n",
    "print(np.percentile(a,75)) #3rd quartile"
   ]
  },
  {
   "cell_type": "code",
   "execution_count": 11,
   "metadata": {},
   "outputs": [
    {
     "name": "stdout",
     "output_type": "stream",
     "text": [
      "[1 2 3 4 5 7 9]\n"
     ]
    }
   ],
   "source": [
    "import numpy as np\n",
    "print(np.unique(a1))"
   ]
  },
  {
   "cell_type": "code",
   "execution_count": 12,
   "metadata": {},
   "outputs": [
    {
     "name": "stdout",
     "output_type": "stream",
     "text": [
      "[[37 65 35 28]\n",
      " [46 41 15 16]\n",
      " [ 7 73  5 65]\n",
      " [86 48 12 64]]\n",
      "2x8\n",
      "[[37 65 35 28 46 41 15 16]\n",
      " [ 7 73  5 65 86 48 12 64]]\n"
     ]
    }
   ],
   "source": [
    "a=np.random.randint(1,100,(4,4))\n",
    "print(a)\n",
    "print('2x8')\n",
    "print(a.reshape(2,8))"
   ]
  },
  {
   "cell_type": "code",
   "execution_count": 13,
   "metadata": {},
   "outputs": [
    {
     "name": "stdout",
     "output_type": "stream",
     "text": [
      "[[4 6 1 9 3]\n",
      " [4 7 7 4 2]\n",
      " [2 9 4 3 1]\n",
      " [7 2 1 4 4]\n",
      " [6 1 3 9 3]]\n"
     ]
    }
   ],
   "source": [
    "x=np.random.randint(1,10,(5,5))\n",
    "print(x)"
   ]
  },
  {
   "cell_type": "code",
   "execution_count": null,
   "metadata": {},
   "outputs": [],
   "source": []
  }
 ],
 "metadata": {
  "kernelspec": {
   "display_name": "Python 3",
   "language": "python",
   "name": "python3"
  },
  "language_info": {
   "codemirror_mode": {
    "name": "ipython",
    "version": 3
   },
   "file_extension": ".py",
   "mimetype": "text/x-python",
   "name": "python",
   "nbconvert_exporter": "python",
   "pygments_lexer": "ipython3",
   "version": "3.10.6"
  }
 },
 "nbformat": 4,
 "nbformat_minor": 2
}
